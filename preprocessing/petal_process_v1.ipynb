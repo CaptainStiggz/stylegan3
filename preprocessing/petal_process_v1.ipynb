{
 "cells": [
  {
   "cell_type": "code",
   "execution_count": 4,
   "id": "2b643eee",
   "metadata": {},
   "outputs": [
    {
     "name": "stdout",
     "output_type": "stream",
     "text": [
      "The autoreload extension is already loaded. To reload it, use:\n",
      "  %reload_ext autoreload\n"
     ]
    }
   ],
   "source": [
    "import matplotlib.pyplot as plt\n",
    "from petal_process_v1 import PetalProcessor\n",
    "import cv2\n",
    "import image_utils as itools\n",
    "%matplotlib inline\n",
    "%load_ext autoreload\n",
    "%autoreload 2"
   ]
  },
  {
   "cell_type": "code",
   "execution_count": null,
   "id": "2d6480e2",
   "metadata": {},
   "outputs": [],
   "source": [
    "img = itools.read_file(\"../dataset/petals-1024x1024/Petals 1/1A/ST1_SE010261.jpg\")\n",
    "plt.imshow(img)"
   ]
  },
  {
   "cell_type": "code",
   "execution_count": 12,
   "id": "eae932e9",
   "metadata": {},
   "outputs": [],
   "source": [
    "processor = PetalProcessor(\"../dataset/petals1024x1024(pil)\")"
   ]
  },
  {
   "cell_type": "code",
   "execution_count": null,
   "id": "2a760af6",
   "metadata": {},
   "outputs": [],
   "source": [
    "processor.deduplicate()"
   ]
  },
  {
   "cell_type": "code",
   "execution_count": null,
   "id": "516dd22f",
   "metadata": {},
   "outputs": [],
   "source": [
    "processor.crop_all_to_largest_square()"
   ]
  },
  {
   "cell_type": "code",
   "execution_count": 10,
   "id": "a567f21d",
   "metadata": {
    "scrolled": true
   },
   "outputs": [
    {
     "name": "stdout",
     "output_type": "stream",
     "text": [
      "Processing 786 files...\n",
      "Progress: [------------------> ] 99 %\r"
     ]
    }
   ],
   "source": [
    "processor.resize_all()"
   ]
  },
  {
   "cell_type": "code",
   "execution_count": null,
   "id": "fd3ee9a5",
   "metadata": {},
   "outputs": [],
   "source": [
    "processor.avg_img_edge_pixels(\"../dataset/petals-1024x1024/Petals 1/1A/ST1_SE010261.jpg\")"
   ]
  },
  {
   "cell_type": "code",
   "execution_count": 13,
   "id": "5981b469",
   "metadata": {},
   "outputs": [
    {
     "name": "stdout",
     "output_type": "stream",
     "text": [
      "Processing 90954 files...\n",
      "Progress: [------------------> ] 99 %\r"
     ]
    }
   ],
   "source": [
    "processor.find_dark_files()"
   ]
  },
  {
   "cell_type": "code",
   "execution_count": null,
   "id": "5baa2192",
   "metadata": {},
   "outputs": [],
   "source": []
  }
 ],
 "metadata": {
  "kernelspec": {
   "display_name": "Python 3 (ipykernel)",
   "language": "python",
   "name": "python3"
  },
  "language_info": {
   "codemirror_mode": {
    "name": "ipython",
    "version": 3
   },
   "file_extension": ".py",
   "mimetype": "text/x-python",
   "name": "python",
   "nbconvert_exporter": "python",
   "pygments_lexer": "ipython3",
   "version": "3.10.0"
  }
 },
 "nbformat": 4,
 "nbformat_minor": 5
}
