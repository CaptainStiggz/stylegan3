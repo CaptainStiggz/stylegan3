{
 "cells": [
  {
   "cell_type": "code",
   "execution_count": 6,
   "id": "15078f33",
   "metadata": {},
   "outputs": [
    {
     "name": "stdout",
     "output_type": "stream",
     "text": [
      "The autoreload extension is already loaded. To reload it, use:\n",
      "  %reload_ext autoreload\n"
     ]
    }
   ],
   "source": [
    "import meta_train as mt\n",
    "%load_ext autoreload\n",
    "%autoreload 2\n"
   ]
  },
  {
   "cell_type": "code",
   "execution_count": 12,
   "id": "0f529214",
   "metadata": {},
   "outputs": [
    {
     "name": "stdout",
     "output_type": "stream",
     "text": [
      "444.56689826809315 /Users/zach/Desktop/training/training/training-05/00002-stylegan3-r-petals1024x1024-gpus8-batch32-gamma16.4/network-snapshot-000200.pkl\n"
     ]
    },
    {
     "data": {
      "text/plain": [
       "(444.56689826809315,\n",
       " '/Users/zach/Desktop/training/training/training-05/00002-stylegan3-r-petals1024x1024-gpus8-batch32-gamma16.4/network-snapshot-000200.pkl')"
      ]
     },
     "execution_count": 12,
     "metadata": {},
     "output_type": "execute_result"
    }
   ],
   "source": [
    "mt.find_best_checkpoint(\"/Users/zach/Desktop/training/training/training-05\")"
   ]
  },
  {
   "cell_type": "code",
   "execution_count": null,
   "id": "94376fef",
   "metadata": {},
   "outputs": [],
   "source": []
  }
 ],
 "metadata": {
  "kernelspec": {
   "display_name": "Python 3 (ipykernel)",
   "language": "python",
   "name": "python3"
  },
  "language_info": {
   "codemirror_mode": {
    "name": "ipython",
    "version": 3
   },
   "file_extension": ".py",
   "mimetype": "text/x-python",
   "name": "python",
   "nbconvert_exporter": "python",
   "pygments_lexer": "ipython3",
   "version": "3.10.0"
  }
 },
 "nbformat": 4,
 "nbformat_minor": 5
}
