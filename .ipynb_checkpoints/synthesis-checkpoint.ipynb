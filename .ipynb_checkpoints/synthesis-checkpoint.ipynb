{
 "cells": [
  {
   "cell_type": "code",
   "execution_count": 2,
   "id": "705a142f",
   "metadata": {},
   "outputs": [],
   "source": [
    "import dnnlib\n",
    "import legacy\n",
    "import torch\n",
    "import matplotlib.pyplot as plt\n",
    "import numpy as np\n",
    "import PIL.Image\n",
    "import scipy.interpolate\n",
    "import math\n",
    "import random\n",
    "import preprocessing.image_utils as itools\n",
    "import cv2\n",
    "import synthesis.synthesis as synth\n",
    "from tqdm import tqdm\n",
    "%matplotlib inline\n",
    "%load_ext autoreload\n",
    "%autoreload 2"
   ]
  },
  {
   "cell_type": "code",
   "execution_count": 2,
   "id": "9aa869a7",
   "metadata": {},
   "outputs": [
    {
     "name": "stdout",
     "output_type": "stream",
     "text": [
      "Loading networks from \"../t-golden-fid14.19.pkl\"...\n",
      "Network loaded.\n"
     ]
    }
   ],
   "source": [
    "network_pkl = \"../t-golden-fid14.19.pkl\"\n",
    "device = torch.device('cuda')\n",
    "G = synth.load_generator(network_pkl, device)"
   ]
  },
  {
   "cell_type": "code",
   "execution_count": 4,
   "id": "bfcc59a8",
   "metadata": {},
   "outputs": [
    {
     "name": "stdout",
     "output_type": "stream",
     "text": [
      "Setting up PyTorch plugin \"bias_act_plugin\"... Done.\n",
      "Setting up PyTorch plugin \"filtered_lrelu_plugin\"... Done.\n",
      "torch.Size([1, 3, 1024, 1024])\n"
     ]
    },
    {
     "data": {
      "text/plain": [
       "<matplotlib.image.AxesImage at 0x7f98cb8416a0>"
      ]
     },
     "execution_count": 4,
     "metadata": {},
     "output_type": "execute_result"
    },
    {
     "data": {
      "image/png": "[encoded data removed]",
      "text/plain": [
       "<Figure size 432x288 with 1 Axes>"
      ]
     },
     "metadata": {
      "needs_background": "light"
     },
     "output_type": "display_data"
    }
   ],
   "source": [
    "img = synth.synthesize_rand_image(50, G, device)\n",
    "plt.imshow(img)"
   ]
  },
  {
   "cell_type": "code",
   "execution_count": 8,
   "id": "00869e92",
   "metadata": {},
   "outputs": [
    {
     "name": "stdout",
     "output_type": "stream",
     "text": [
      "interpolating:  [9, 300, 32]\n",
      "ws.shape original torch.Size([3, 16, 512])\n",
      "ws[:1].shape torch.Size([3])\n",
      "ws.shape torch.Size([1, 1, 3, 16, 512])\n",
      "x.shape, y.shape (9,) (9, 16, 512)\n"
     ]
    },
    {
     "name": "stderr",
     "output_type": "stream",
     "text": [
      "100%|████████████████████████████████████████████████████████████████████████████████████████████████| 12/12 [00:07<00:00,  1.69it/s]\n"
     ]
    }
   ],
   "source": [
    "_kimgs = synth.synthesize_rand_interp([9, 300, 32], G, device, w_frames=4)"
   ]
  },
  {
   "cell_type": "code",
   "execution_count": 4,
   "id": "a98e535d",
   "metadata": {},
   "outputs": [
    {
     "ename": "NameError",
     "evalue": "name 'kimgs' is not defined",
     "output_type": "error",
     "traceback": [
      "\u001b[0;31m---------------------------------------------------------------------------\u001b[0m",
      "\u001b[0;31mNameError\u001b[0m                                 Traceback (most recent call last)",
      "\u001b[0;32m/tmp/ipykernel_6632/3635547907.py\u001b[0m in \u001b[0;36m<module>\u001b[0;34m\u001b[0m\n\u001b[0;32m----> 1\u001b[0;31m \u001b[0m_kimg\u001b[0m \u001b[0;34m=\u001b[0m \u001b[0msynth\u001b[0m\u001b[0;34m.\u001b[0m\u001b[0mcreate_kaleidoscope\u001b[0m\u001b[0;34m(\u001b[0m\u001b[0mkimgs\u001b[0m\u001b[0;34m)\u001b[0m\u001b[0;34m\u001b[0m\u001b[0;34m\u001b[0m\u001b[0m\n\u001b[0m\u001b[1;32m      2\u001b[0m \u001b[0mplt\u001b[0m\u001b[0;34m.\u001b[0m\u001b[0mimshow\u001b[0m\u001b[0;34m(\u001b[0m\u001b[0m_kimg\u001b[0m\u001b[0;34m)\u001b[0m\u001b[0;34m\u001b[0m\u001b[0;34m\u001b[0m\u001b[0m\n",
      "\u001b[0;31mNameError\u001b[0m: name 'kimgs' is not defined"
     ]
    }
   ],
   "source": [
    "_kimg = synth.create_kaleidoscope(_kimgs)\n",
    "plt.imshow(_kimg)"
   ]
  },
  {
   "cell_type": "code",
   "execution_count": 3,
   "id": "cb63833a",
   "metadata": {},
   "outputs": [
    {
     "name": "stdout",
     "output_type": "stream",
     "text": [
      "creating kaleidoscope with seeds: 7, w_frames: 9\n",
      "creating kaleidoscope with seeds: 20, w_frames: 12\n",
      "creating kaleidoscope with seeds: 4, w_frames: 10\n",
      "creating kaleidoscope with seeds: 8, w_frames: 14\n",
      "creating kaleidoscope with seeds: 17, w_frames: 3\n",
      "creating kaleidoscope with seeds: 20, w_frames: 17\n",
      "creating kaleidoscope with seeds: 5, w_frames: 13\n",
      "creating kaleidoscope with seeds: 2, w_frames: 12\n",
      "creating kaleidoscope with seeds: 5, w_frames: 3\n",
      "creating kaleidoscope with seeds: 19, w_frames: 20\n",
      "creating kaleidoscope with seeds: 7, w_frames: 18\n",
      "creating kaleidoscope with seeds: 10, w_frames: 12\n",
      "creating kaleidoscope with seeds: 16, w_frames: 19\n",
      "creating kaleidoscope with seeds: 3, w_frames: 9\n",
      "creating kaleidoscope with seeds: 15, w_frames: 10\n",
      "creating kaleidoscope with seeds: 12, w_frames: 4\n",
      "creating kaleidoscope with seeds: 13, w_frames: 3\n",
      "creating kaleidoscope with seeds: 11, w_frames: 15\n",
      "creating kaleidoscope with seeds: 10, w_frames: 8\n",
      "creating kaleidoscope with seeds: 3, w_frames: 16\n",
      "creating kaleidoscope with seeds: 15, w_frames: 2\n",
      "creating kaleidoscope with seeds: 3, w_frames: 10\n",
      "creating kaleidoscope with seeds: 15, w_frames: 2\n",
      "creating kaleidoscope with seeds: 18, w_frames: 13\n",
      "creating kaleidoscope with seeds: 6, w_frames: 20\n",
      "creating kaleidoscope with seeds: 2, w_frames: 4\n",
      "creating kaleidoscope with seeds: 16, w_frames: 6\n",
      "creating kaleidoscope with seeds: 8, w_frames: 7\n",
      "creating kaleidoscope with seeds: 7, w_frames: 4\n",
      "creating kaleidoscope with seeds: 17, w_frames: 16\n",
      "creating kaleidoscope with seeds: 13, w_frames: 19\n",
      "creating kaleidoscope with seeds: 5, w_frames: 8\n",
      "creating kaleidoscope with seeds: 16, w_frames: 17\n",
      "creating kaleidoscope with seeds: 8, w_frames: 16\n",
      "creating kaleidoscope with seeds: 19, w_frames: 19\n",
      "creating kaleidoscope with seeds: 17, w_frames: 11\n",
      "creating kaleidoscope with seeds: 5, w_frames: 6\n",
      "creating kaleidoscope with seeds: 6, w_frames: 14\n",
      "creating kaleidoscope with seeds: 6, w_frames: 6\n",
      "creating kaleidoscope with seeds: 12, w_frames: 19\n",
      "creating kaleidoscope with seeds: 18, w_frames: 6\n",
      "creating kaleidoscope with seeds: 17, w_frames: 3\n",
      "creating kaleidoscope with seeds: 7, w_frames: 12\n",
      "creating kaleidoscope with seeds: 19, w_frames: 8\n",
      "creating kaleidoscope with seeds: 17, w_frames: 15\n",
      "creating kaleidoscope with seeds: 17, w_frames: 6\n",
      "creating kaleidoscope with seeds: 15, w_frames: 16\n",
      "creating kaleidoscope with seeds: 19, w_frames: 14\n",
      "creating kaleidoscope with seeds: 7, w_frames: 12\n",
      "creating kaleidoscope with seeds: 13, w_frames: 8\n",
      "creating kaleidoscope with seeds: 9, w_frames: 10\n",
      "creating kaleidoscope with seeds: 3, w_frames: 11\n",
      "creating kaleidoscope with seeds: 5, w_frames: 7\n",
      "creating kaleidoscope with seeds: 5, w_frames: 8\n",
      "creating kaleidoscope with seeds: 17, w_frames: 3\n",
      "creating kaleidoscope with seeds: 15, w_frames: 16\n",
      "creating kaleidoscope with seeds: 8, w_frames: 7\n",
      "creating kaleidoscope with seeds: 19, w_frames: 17\n",
      "creating kaleidoscope with seeds: 13, w_frames: 6\n",
      "creating kaleidoscope with seeds: 13, w_frames: 3\n",
      "creating kaleidoscope with seeds: 6, w_frames: 15\n",
      "creating kaleidoscope with seeds: 14, w_frames: 7\n",
      "creating kaleidoscope with seeds: 4, w_frames: 3\n",
      "creating kaleidoscope with seeds: 18, w_frames: 9\n",
      "creating kaleidoscope with seeds: 8, w_frames: 4\n",
      "creating kaleidoscope with seeds: 6, w_frames: 13\n",
      "creating kaleidoscope with seeds: 13, w_frames: 10\n",
      "creating kaleidoscope with seeds: 14, w_frames: 11\n",
      "creating kaleidoscope with seeds: 4, w_frames: 3\n",
      "creating kaleidoscope with seeds: 13, w_frames: 3\n",
      "creating kaleidoscope with seeds: 20, w_frames: 15\n",
      "creating kaleidoscope with seeds: 12, w_frames: 8\n",
      "creating kaleidoscope with seeds: 3, w_frames: 10\n",
      "creating kaleidoscope with seeds: 17, w_frames: 13\n",
      "creating kaleidoscope with seeds: 9, w_frames: 9\n",
      "creating kaleidoscope with seeds: 4, w_frames: 5\n",
      "creating kaleidoscope with seeds: 3, w_frames: 15\n",
      "creating kaleidoscope with seeds: 20, w_frames: 10\n",
      "creating kaleidoscope with seeds: 4, w_frames: 8\n",
      "creating kaleidoscope with seeds: 3, w_frames: 10\n",
      "creating kaleidoscope with seeds: 3, w_frames: 13\n",
      "creating kaleidoscope with seeds: 15, w_frames: 3\n",
      "creating kaleidoscope with seeds: 2, w_frames: 6\n",
      "creating kaleidoscope with seeds: 17, w_frames: 5\n",
      "creating kaleidoscope with seeds: 5, w_frames: 17\n",
      "creating kaleidoscope with seeds: 16, w_frames: 15\n",
      "creating kaleidoscope with seeds: 14, w_frames: 7\n",
      "creating kaleidoscope with seeds: 12, w_frames: 8\n",
      "creating kaleidoscope with seeds: 17, w_frames: 9\n",
      "creating kaleidoscope with seeds: 15, w_frames: 11\n",
      "creating kaleidoscope with seeds: 14, w_frames: 5\n",
      "creating kaleidoscope with seeds: 14, w_frames: 15\n",
      "creating kaleidoscope with seeds: 14, w_frames: 20\n",
      "creating kaleidoscope with seeds: 12, w_frames: 12\n",
      "creating kaleidoscope with seeds: 16, w_frames: 13\n",
      "creating kaleidoscope with seeds: 16, w_frames: 7\n",
      "creating kaleidoscope with seeds: 16, w_frames: 2\n",
      "creating kaleidoscope with seeds: 15, w_frames: 8\n",
      "creating kaleidoscope with seeds: 15, w_frames: 18\n",
      "creating kaleidoscope with seeds: 11, w_frames: 12\n"
     ]
    }
   ],
   "source": [
    "def create_kaleidoscopes():\n",
    "    for _ in range(100):\n",
    "        num_seeds = random.randint(2, 20)\n",
    "        w_frames = random.randint(2, 20)\n",
    "        print(f'creating kaleidoscope with seeds: {num_seeds}, w_frames: {w_frames}')\n",
    "        k = synth.synthesize_kaleidoscope(G, device, num_seeds, w_frames)\n",
    "        filename = f'ns{num_seeds}-wf{w_frames}-.jpg'\n",
    "        PIL.Image.fromarray(k, 'RGB').save(f'../kaleidoscopes/{}.jpg')\n",
    "\n",
    "create_kaleidoscopes()"
   ]
  },
  {
   "cell_type": "code",
   "execution_count": null,
   "id": "4d7af3f4",
   "metadata": {},
   "outputs": [],
   "source": []
  }
 ],
 "metadata": {
  "kernelspec": {
   "display_name": "Python 3 (ipykernel)",
   "language": "python",
   "name": "python3"
  },
  "language_info": {
   "codemirror_mode": {
    "name": "ipython",
    "version": 3
   },
   "file_extension": ".py",
   "mimetype": "text/x-python",
   "name": "python",
   "nbconvert_exporter": "python",
   "pygments_lexer": "ipython3",
   "version": "3.9.7"
  }
 },
 "nbformat": 4,
 "nbformat_minor": 5
}
