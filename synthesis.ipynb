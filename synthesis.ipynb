{
 "cells": [
  {
   "cell_type": "code",
   "execution_count": null,
   "id": "705a142f",
   "metadata": {},
   "outputs": [],
   "source": [
    "import dnnlib\n",
    "import legacy\n",
    "import torch\n",
    "import matplotlib.pyplot as plt\n",
    "import numpy as np\n",
    "import PIL.Image\n",
    "import scipy.interpolate\n",
    "import math\n",
    "import random\n",
    "import preprocessing.image_utils as itools\n",
    "import cv2\n",
    "import synthesis.synthesis as synth\n",
    "from tqdm import tqdm\n",
    "%matplotlib inline\n",
    "%load_ext autoreload\n",
    "%autoreload 2"
   ]
  },
  {
   "cell_type": "code",
   "execution_count": null,
   "id": "9aa869a7",
   "metadata": {},
   "outputs": [],
   "source": [
    "network_pkl = \"../t-golden-fid14.19.pkl\"\n",
    "device = torch.device('cuda')\n",
    "G = synth.load_generator(network_pkl, device)"
   ]
  },
  {
   "cell_type": "code",
   "execution_count": null,
   "id": "bfcc59a8",
   "metadata": {},
   "outputs": [],
   "source": [
    "img = synth.synthesize_rand_image(50, G, device)\n",
    "plt.imshow(img)"
   ]
  },
  {
   "cell_type": "code",
   "execution_count": null,
   "id": "00869e92",
   "metadata": {},
   "outputs": [],
   "source": [
    "_kimgs = synth.synthesize_rand_interp([9, 300, 32], G, device, w_frames=4)"
   ]
  },
  {
   "cell_type": "code",
   "execution_count": null,
   "id": "a98e535d",
   "metadata": {},
   "outputs": [],
   "source": [
    "_kimg = synth.create_kaleidoscope(_kimgs)\n",
    "plt.imshow(_kimg)"
   ]
  },
  {
   "cell_type": "code",
   "execution_count": null,
   "id": "cb63833a",
   "metadata": {},
   "outputs": [],
   "source": [
    "def create_kaleidoscopes():\n",
    "    for _ in range(100):\n",
    "        try:\n",
    "            num_seeds = random.randint(2, 20)\n",
    "            w_frames = random.randint(2, 20)\n",
    "            seeds = [random.randint(1, 10000) for _ in range(num_seeds)]\n",
    "            seeds_str = \",\".join(str(seed) for seed in seeds)\n",
    "            print(f'creating kaleidoscope with seeds: {num_seeds}, w_frames: {w_frames}')\n",
    "            k = synth.synthesize_kaleidoscope(G, device, num_seeds, w_frames)\n",
    "            filename = f'ns{num_seeds}-wf{w_frames}-[{seeds_str}].jpg'\n",
    "            PIL.Image.fromarray(k, 'RGB').save(f'../kaleidoscopes/{filename}')\n",
    "        except:\n",
    "            print(\"Failed...continuing.\")\n",
    "\n",
    "create_kaleidoscopes()"
   ]
  },
  {
   "cell_type": "code",
   "execution_count": null,
   "id": "4d7af3f4",
   "metadata": {},
   "outputs": [],
   "source": []
  }
 ],
 "metadata": {
  "kernelspec": {
   "display_name": "Python 3 (ipykernel)",
   "language": "python",
   "name": "python3"
  },
  "language_info": {
   "codemirror_mode": {
    "name": "ipython",
    "version": 3
   },
   "file_extension": ".py",
   "mimetype": "text/x-python",
   "name": "python",
   "nbconvert_exporter": "python",
   "pygments_lexer": "ipython3",
   "version": "3.9.7"
  }
 },
 "nbformat": 4,
 "nbformat_minor": 5
}
